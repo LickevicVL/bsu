{
 "cells": [
  {
   "cell_type": "code",
   "execution_count": 16,
   "metadata": {
    "collapsed": true
   },
   "outputs": [],
   "source": [
    "from requests import get\n",
    "from scipy import spatial\n",
    "import re\n",
    "from numpy import array\n",
    "from time import time"
   ]
  },
  {
   "cell_type": "raw",
   "metadata": {},
   "source": []
  },
  {
   "cell_type": "code",
   "execution_count": 3,
   "metadata": {
    "collapsed": true
   },
   "outputs": [],
   "source": [
    "\"\"\"1\"\"\"\n",
    "holmes_url = \"http://www.gutenberg.org/cache/epub/1661/pg1661.txt\"\n",
    "response = get(holmes_url)\n",
    "text = response.text"
   ]
  },
  {
   "cell_type": "code",
   "execution_count": 4,
   "metadata": {
    "collapsed": true
   },
   "outputs": [],
   "source": [
    "\"\"\"2\"\"\"\n",
    "text_lowercase = text.lower()"
   ]
  },
  {
   "cell_type": "code",
   "execution_count": 5,
   "metadata": {
    "collapsed": false
   },
   "outputs": [
    {
     "name": "stdout",
     "output_type": "stream",
     "text": [
      "147772\n"
     ]
    }
   ],
   "source": [
    "\"\"\"3\"\"\"\n",
    "words = re.split('[^a-z]', text_lowercase)\n",
    "print(len(words))"
   ]
  },
  {
   "cell_type": "code",
   "execution_count": 6,
   "metadata": {
    "collapsed": false
   },
   "outputs": [
    {
     "name": "stdout",
     "output_type": "stream",
     "text": [
      "109000\n",
      "8068\n"
     ]
    }
   ],
   "source": [
    "\"\"\"4\"\"\"\n",
    "def fil(word):\n",
    "    if not word:\n",
    "        return False\n",
    "    if word == '\\n' or word == '\\r' or word == '\\n\\r':\n",
    "        return False\n",
    "    else:\n",
    "        return True\n",
    "\n",
    "words = list(filter(fil, words))\n",
    "print(len(words))\n",
    "words = list(set(words))\n",
    "print(len(words))"
   ]
  },
  {
   "cell_type": "code",
   "execution_count": 8,
   "metadata": {
    "collapsed": false
   },
   "outputs": [
    {
     "name": "stdout",
     "output_type": "stream",
     "text": [
      "7027\n",
      "6992\n"
     ]
    }
   ],
   "source": [
    "reg = re.compile('[A-Za-z0-9 \\'\"@#,:;\\(\\)\\*-]{2,}(?=[\\.!?\" ]+[0-9A-Z\"\\'])')\n",
    "text = text.replace('\\r', ' ').replace('\\n', ' ').replace('\\r\\n', ' ').replace('\\\\', '').replace('Mr.', 'Mr')\\\n",
    "    .replace('Mrs.', 'Mrs').replace('St.', 'St')\n",
    "sentences = reg.findall(text)\n",
    "\n",
    "\n",
    "print(len(sentences))\n",
    "def filt(sentence):\n",
    "    if len(sentence) <= 1 or sentence in ['\\r', '\\n', '\\r\\n', '  ', \"' \", \"'  \", '\"  ', '\" ', '  1', ' 1', ' 4',\n",
    "                                          '\"    ', '    ', \"'   \", '    1', '    4', \"'    \"]:\n",
    "        return False\n",
    "    else:\n",
    "        return True\n",
    "\n",
    "sentences = list(filter(filt, sentences))\n",
    "print(len(sentences))"
   ]
  },
  {
   "cell_type": "code",
   "execution_count": 9,
   "metadata": {
    "collapsed": false
   },
   "outputs": [
    {
     "name": "stdout",
     "output_type": "stream",
     "text": [
      "(6992, 8068)\n"
     ]
    }
   ],
   "source": [
    "\"\"\"6\"\"\"\n",
    "def num(word, sentences):\n",
    "    return len([w for w in sentences.lower().split() if word in w])\n",
    "\n",
    "M = array([[num(word, sentence) for word in words] for sentence in sentences])\n",
    "print(M.shape)"
   ]
  },
  {
   "cell_type": "code",
   "execution_count": 15,
   "metadata": {
    "collapsed": false
   },
   "outputs": [
    {
     "name": "stdout",
     "output_type": "stream",
     "text": [
      "  All this is amusing, though rather elementary, but I must go back  to business, Watson\n",
      "2121\n",
      "0.125509778608\n",
      "\"    \"Well, now, in considering this case there are two points about  young McCarthy's narrative which struck us both instantly,  although they impressed me in his favour and you against him\n"
     ]
    }
   ],
   "source": [
    "\"\"\"7\"\"\"\n",
    "sen = M[1515]\n",
    "print(sentences[1515])\n",
    "tmpM = list(M)\n",
    "tmpM.pop(1515)\n",
    "\n",
    "res = array([spatial.distance.cosine(sen, sentence) for sentence in tmpM])\n",
    "min_res = res.argmin()\n",
    "min_sen = min_res + 1 if min_res >= 1515 else min_res\n",
    "print(min_res)\n",
    "print(res[min_res])\n",
    "print(sentences[min_sen])"
   ]
  },
  {
   "cell_type": "code",
   "execution_count": 20,
   "metadata": {
    "collapsed": false
   },
   "outputs": [
    {
     "name": "stdout",
     "output_type": "stream",
     "text": [
      "416\n",
      " It is nearly five now\n",
      "3120\n",
      " It is very unlike his usual  writing, and yet I know it well\n"
     ]
    }
   ],
   "source": [
    "def simple_sentence(Matrix, number):\n",
    "    sen = Matrix[number]\n",
    "    M = list(Matrix)\n",
    "    M.pop(number)\n",
    "    res = array([spatial.distance.cosine(sen, sentence) for sentence in M])\n",
    "    max_simp = res.argmin()\n",
    "    return max_simp + 1 if max_simp >= number else max_simp\n",
    "\n",
    "m = int(str(time())[-3:])\n",
    "print(m)\n",
    "print(sentences[m])\n",
    "n = simple_sentence(M, m)\n",
    "print(n)\n",
    "print(sentences[n])"
   ]
  },
  {
   "cell_type": "code",
   "execution_count": null,
   "metadata": {
    "collapsed": true
   },
   "outputs": [],
   "source": []
  }
 ],
 "metadata": {
  "anaconda-cloud": {},
  "kernelspec": {
   "display_name": "Python [Root]",
   "language": "python",
   "name": "Python [Root]"
  },
  "language_info": {
   "codemirror_mode": {
    "name": "ipython",
    "version": 3
   },
   "file_extension": ".py",
   "mimetype": "text/x-python",
   "name": "python",
   "nbconvert_exporter": "python",
   "pygments_lexer": "ipython3",
   "version": "3.5.2"
  }
 },
 "nbformat": 4,
 "nbformat_minor": 0
}
